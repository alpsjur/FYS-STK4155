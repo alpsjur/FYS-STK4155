{
 "cells": [
  {
   "cell_type": "markdown",
   "metadata": {},
   "source": [
    "# Inspecting and cleaning the credit card data"
   ]
  },
  {
   "cell_type": "code",
   "execution_count": 1,
   "metadata": {},
   "outputs": [],
   "source": [
    "import pandas as pd\n",
    "import numpy as np\n",
    "import matplotlib.pyplot as plt\n",
    "import seaborn as sns\n",
    "%matplotlib inline\n",
    "sns.set_style('darkgrid')"
   ]
  },
  {
   "cell_type": "code",
   "execution_count": null,
   "metadata": {},
   "outputs": [],
   "source": [
    "filepath = '../data/input/'\n",
    "filename = 'default of credit card clients'\n",
    "\n",
    "#load data set\n",
    "df = pd.read_excel(filepath+filename+'.xls', index_col=0,skiprows=[0])"
   ]
  },
  {
   "cell_type": "code",
   "execution_count": null,
   "metadata": {},
   "outputs": [],
   "source": [
    "#show first 5 rows\n",
    "df.head()"
   ]
  },
  {
   "cell_type": "code",
   "execution_count": null,
   "metadata": {
    "scrolled": true
   },
   "outputs": [],
   "source": [
    "#compute correlation\n",
    "corr = df.corr()\n",
    "\n",
    "#plot correlation\n",
    "corr.style.background_gradient(cmap='coolwarm', axis=None).set_precision(3)"
   ]
  },
  {
   "cell_type": "code",
   "execution_count": null,
   "metadata": {},
   "outputs": [],
   "source": [
    "#print correlation\n",
    "corr.loc['default payment next month']"
   ]
  },
  {
   "cell_type": "markdown",
   "metadata": {},
   "source": [
    "### Taking a closer look at the values of the variables\n",
    "We want to inspect for possible errors in the dataset. These are the legal values for the different variables:\n",
    "\n",
    "* LIMIT_BAL: $\\geq$ 0\n",
    "* SEX: 1,2\n",
    "* EDUCATION: 1,2,3,4,5\n",
    "* MARRIAGE: 1,2,3\n",
    "* AGE: $\\geq$ 0\n",
    "* PAY_* 0, 2-6: -1, 1, 2, 3, 4, 5, 6, 7, 8, 9\n",
    "* BILL_AMT* 1-6: $\\geq$ 0\n",
    "* PAY_AMT* 1-6: $\\geq$ 0\n",
    "* default payment next month: 0, 1\n",
    "\n",
    "We start by looking at the categorical variables."
   ]
  },
  {
   "cell_type": "code",
   "execution_count": null,
   "metadata": {},
   "outputs": [],
   "source": [
    "#define values with limited number of legal values\n",
    "variables= ['SEX','EDUCATION','MARRIAGE','PAY_0','PAY_2','PAY_3', 'PAY_4','PAY_5','PAY_6','default payment next month']\n",
    "\n",
    "#print count of values for variables with limited possible values\n",
    "for variable in variables:\n",
    "    print('Variable '+variable)\n",
    "    print('Value|Count')\n",
    "    print(df[variable].value_counts())\n",
    "    print('\\n')"
   ]
  },
  {
   "cell_type": "markdown",
   "metadata": {},
   "source": [
    "We find the following illegal values:\n",
    "* EDUCATION: 0, 5, 6\n",
    "* MARRIAGE: 0\n",
    "* PAY_*: -2, 0\n",
    "\n",
    "In order to get an ide about the non-categorical values, we can look at histograms of the values."
   ]
  },
  {
   "cell_type": "code",
   "execution_count": null,
   "metadata": {},
   "outputs": [],
   "source": [
    "#Plot histogram of past payments and bills to look for illeagl values\n",
    "fig, ax = plt.subplots()\n",
    "for i in range(1,7):\n",
    "    sns.distplot(df['BILL_AMT{}'.format(i)],ax=ax, kde=False,label='BILL_AMT{}'.format(i))\n",
    "plt.ylabel('Count')\n",
    "plt.xlabel('BILL')\n",
    "plt.legend()"
   ]
  },
  {
   "cell_type": "code",
   "execution_count": null,
   "metadata": {},
   "outputs": [],
   "source": [
    "fig, ax = plt.subplots()\n",
    "for i in range(1,7):\n",
    "    sns.distplot(df['PAY_AMT{}'.format(i)],ax=ax, kde=False,label='PAY_AMT{}'.format(i))\n",
    "plt.ylabel('Count')\n",
    "plt.xlabel('PAY')\n",
    "plt.legend()"
   ]
  },
  {
   "cell_type": "code",
   "execution_count": null,
   "metadata": {},
   "outputs": [],
   "source": [
    "# Same for age\n",
    "sns.distplot(df['AGE'], kde=False)\n",
    "plt.ylabel('Count')"
   ]
  },
  {
   "cell_type": "code",
   "execution_count": null,
   "metadata": {},
   "outputs": [],
   "source": [
    "# ...and amount of given credit\n",
    "sns.distplot(df['LIMIT_BAL'], kde=False)\n",
    "plt.ylabel('Count')"
   ]
  },
  {
   "cell_type": "markdown",
   "metadata": {},
   "source": [
    "We see that BILL_AMT* contains negative numbers."
   ]
  },
  {
   "cell_type": "markdown",
   "metadata": {},
   "source": [
    "# Now the clean up starts"
   ]
  },
  {
   "cell_type": "code",
   "execution_count": null,
   "metadata": {},
   "outputs": [],
   "source": [
    "print('# of entries before clean up: {}'.format(len(df.index)))\n",
    "\n",
    "# Remove instances with zeros only for past bill statements and paid amounts\n",
    "'''\n",
    "df = df.drop(df[(df.BILL_AMT1 == 0) &\n",
    "                (df.BILL_AMT2 == 0) &\n",
    "                (df.BILL_AMT3 == 0) &\n",
    "                (df.BILL_AMT4 == 0) &\n",
    "                (df.BILL_AMT5 == 0) &\n",
    "                (df.BILL_AMT6 == 0)].index)\n",
    "\n",
    "df = df.drop(df[(df.PAY_AMT1 == 0) &\n",
    "                (df.PAY_AMT2 == 0) &\n",
    "                (df.PAY_AMT3 == 0) &\n",
    "                (df.PAY_AMT4 == 0) &\n",
    "                (df.PAY_AMT5 == 0) &\n",
    "                (df.PAY_AMT6 == 0)].index)\n",
    "'''\n",
    "df = df.drop(df[(df.BILL_AMT1 == 0) &\n",
    "                (df.BILL_AMT2 == 0) &\n",
    "                (df.BILL_AMT3 == 0) &\n",
    "                (df.BILL_AMT4 == 0) &\n",
    "                (df.BILL_AMT5 == 0) &\n",
    "                (df.BILL_AMT6 == 0) &\n",
    "                (df.PAY_AMT1 == 0) &\n",
    "                (df.PAY_AMT2 == 0) &\n",
    "                (df.PAY_AMT3 == 0) &\n",
    "                (df.PAY_AMT4 == 0) &\n",
    "                (df.PAY_AMT5 == 0) &\n",
    "                (df.PAY_AMT6 == 0)].index)\n",
    "\n",
    "\n",
    "# Remove illegal education value\n",
    "df = df.drop(df[(df.EDUCATION == 0) |\n",
    "                (df.EDUCATION == 5) |\n",
    "                (df.EDUCATION == 6)].index)\n",
    "\n",
    "# Remove illegal marriage value\n",
    "df = df.drop(df[(df.MARRIAGE == 0)].index)\n",
    "\n",
    "# Remove illegal pay value\n",
    "df = df.drop(df[(df.PAY_0 == -2) |\n",
    "                (df.PAY_2 == -2) |\n",
    "                (df.PAY_3 == -2) |\n",
    "                (df.PAY_4 == -2) |\n",
    "                (df.PAY_5 == -2) |\n",
    "                (df.PAY_6 == -2)].index)\n",
    "\n",
    "df = df.drop(df[(df.PAY_0 == 0) |\n",
    "                (df.PAY_2 == 0) |\n",
    "                (df.PAY_3 == 0) |\n",
    "                (df.PAY_4 == 0) |\n",
    "                (df.PAY_5 == 0) |\n",
    "                (df.PAY_6 == 0)].index)\n",
    "\n",
    "# Remove negative bill and pay amounts\n",
    "df = df.drop(df[(df.BILL_AMT1 < 0) |\n",
    "                (df.BILL_AMT2 < 0) |\n",
    "                (df.BILL_AMT3 < 0) |\n",
    "                (df.BILL_AMT4 < 0) |\n",
    "                (df.BILL_AMT5 < 0) |\n",
    "                (df.BILL_AMT6 < 0)].index)\n",
    "\n",
    "df = df.drop(df[(df.PAY_AMT1 < 0) |\n",
    "                (df.PAY_AMT2 < 0) |\n",
    "                (df.PAY_AMT3 < 0) |\n",
    "                (df.PAY_AMT4 < 0) |\n",
    "                (df.PAY_AMT5 < 0) |\n",
    "                (df.PAY_AMT6 < 0)].index)\n",
    "\n",
    "\n",
    "\n",
    "print('# of entries after clean up: {}'.format(len(df.index)))"
   ]
  },
  {
   "cell_type": "markdown",
   "metadata": {},
   "source": [
    "### Features of the cleand up data set"
   ]
  },
  {
   "cell_type": "code",
   "execution_count": null,
   "metadata": {},
   "outputs": [],
   "source": [
    "#Look at value count after clean up\n",
    "for variable in variables:\n",
    "    print('Variable '+variable)\n",
    "    print('Value|Count')\n",
    "    print(df[variable].value_counts())\n",
    "    print('\\n')"
   ]
  },
  {
   "cell_type": "code",
   "execution_count": null,
   "metadata": {},
   "outputs": [],
   "source": [
    "#Look again at correlation, after clean up\n",
    "\n",
    "#compute correlation\n",
    "corr = df.corr()\n",
    "\n",
    "#plot correlation\n",
    "corr.style.background_gradient(cmap='coolwarm', axis=None).set_precision(3)"
   ]
  },
  {
   "cell_type": "code",
   "execution_count": null,
   "metadata": {},
   "outputs": [],
   "source": [
    "#print correlation\n",
    "corr.loc['default payment next month']"
   ]
  },
  {
   "cell_type": "code",
   "execution_count": null,
   "metadata": {},
   "outputs": [],
   "source": [
    "# Some distributions\n",
    "sns.set_style('darkgrid')\n",
    "sns.distplot(df['AGE'])\n",
    "plt.ylabel('Density')"
   ]
  },
  {
   "cell_type": "code",
   "execution_count": null,
   "metadata": {},
   "outputs": [],
   "source": [
    "sns.distplot(df['LIMIT_BAL'])\n",
    "plt.ylabel('Density')"
   ]
  },
  {
   "cell_type": "code",
   "execution_count": null,
   "metadata": {},
   "outputs": [],
   "source": [
    "fig, ax = plt.subplots()\n",
    "for i in range(1,7):\n",
    "    sns.distplot(df['BILL_AMT{}'.format(i)],ax=ax, kde=False,label='BILL_AMT{}'.format(i))\n",
    "plt.ylabel('Count')\n",
    "plt.legend()"
   ]
  },
  {
   "cell_type": "code",
   "execution_count": null,
   "metadata": {},
   "outputs": [],
   "source": [
    "# Now in log-scale\n",
    "fig, ax = plt.subplots()\n",
    "for i in range(1,7):\n",
    "    sns.distplot(df['BILL_AMT{}'.format(i)],ax=ax, kde=False,label='BILL_AMT{}'.format(i),hist_kws={'log':True})\n",
    "plt.ylabel('Count')\n",
    "plt.legend()"
   ]
  },
  {
   "cell_type": "code",
   "execution_count": null,
   "metadata": {},
   "outputs": [],
   "source": [
    "fig, ax = plt.subplots()\n",
    "for i in range(1,7):\n",
    "    sns.distplot(df['PAY_AMT{}'.format(i)],ax=ax, kde=False,label='PAY_AMT{}'.format(i))\n",
    "plt.ylabel('Count')\n",
    "plt.legend()"
   ]
  },
  {
   "cell_type": "code",
   "execution_count": null,
   "metadata": {},
   "outputs": [],
   "source": [
    "# Now in log-scale\n",
    "fig, ax = plt.subplots()\n",
    "for i in range(1,7):\n",
    "    sns.distplot(df['PAY_AMT{}'.format(i)],ax=ax, kde=False,label='PAY_AMT{}'.format(i),hist_kws={'log':True})\n",
    "plt.ylabel('Count')\n",
    "plt.legend()"
   ]
  },
  {
   "cell_type": "code",
   "execution_count": null,
   "metadata": {},
   "outputs": [],
   "source": [
    "#And, finaly, saving the clean data \n",
    "df.to_pickle(filepath+filename+'_clean.pkl')"
   ]
  },
  {
   "cell_type": "code",
   "execution_count": null,
   "metadata": {},
   "outputs": [],
   "source": [
    "#to read, use df = pd.read_pickle(file_name)\n",
    "df = pd.read_pickle(filepath+filename+'_clean.pkl')\n",
    "df.head()"
   ]
  }
 ],
 "metadata": {
  "kernelspec": {
   "display_name": "Python 3",
   "language": "python",
   "name": "python3"
  },
  "language_info": {
   "codemirror_mode": {
    "name": "ipython",
    "version": 3
   },
   "file_extension": ".py",
   "mimetype": "text/x-python",
   "name": "python",
   "nbconvert_exporter": "python",
   "pygments_lexer": "ipython3",
   "version": "3.6.9"
  }
 },
 "nbformat": 4,
 "nbformat_minor": 2
}
